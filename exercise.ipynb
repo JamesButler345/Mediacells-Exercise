{
 "cells": [
  {
   "cell_type": "code",
   "execution_count": 13,
   "metadata": {},
   "outputs": [],
   "source": [
    "'''\n",
    "This script generates a JSON summary of the provided TV Viewing Figure files.\n",
    "\n",
    "The output is a summary of the monthly viewing figures per group (Month, Channel and Producer).\n",
    "Additionally, the most viewed programme per group and a cumulative totals are provided.\n",
    "\n",
    "Context:\n",
    "    STEP 1: Data Cleanse\n",
    "    STEP 2: Data Processing\n",
    "    STEP 3: Generate Summary\n",
    "    STEP 4: Output Summary and Checks\n",
    "'''\n",
    "\n",
    "import pandas as pd\n",
    "import json\n",
    "\n",
    "## Read TV Viewing figure datasets ##\n",
    "\n",
    "viewing_data = pd.read_excel(\"2024 Mediacells Python Task TV data.xlsx\", sheet_name=\"Viewing data\")\n",
    "producers = pd.read_excel(\"2024 Mediacells Python Task TV data.xlsx\", sheet_name=\"Producers\")"
   ]
  },
  {
   "cell_type": "code",
   "execution_count": 14,
   "metadata": {},
   "outputs": [],
   "source": [
    "## STEP 1: Data Cleanse ##\n",
    "\n",
    "# Check if viewing data is complete, if missing data is found, throw error\n",
    "if viewing_data.isnull().values.any() == True:\n",
    "    raise ValueError(\"Input file contains missing data.\")\n",
    "\n",
    "# Remove leading and trailing whitespace from df using '.strip()'\n",
    "viewing_data = viewing_data.applymap(lambda x: x.strip() if isinstance(x, str) else x)\n",
    "\n",
    "# Standardise Datetime format\n",
    "viewing_data[\"Date\"] = pd.to_datetime(viewing_data[\"Date\"])"
   ]
  },
  {
   "cell_type": "code",
   "execution_count": 15,
   "metadata": {},
   "outputs": [],
   "source": [
    "## STEP 2: Data Processing ##\n",
    "\n",
    "# Merge exercise dataframes\n",
    "combined = viewing_data.merge(producers, on=\"Programme\")\n",
    "\n",
    "# Separate Date into Year and Month(name)\n",
    "combined[\"Year\"] = combined[\"Date\"].dt.strftime(\"%Y\")\n",
    "combined[\"Month\"] = combined[\"Date\"].dt.strftime(\"%B\")\n",
    "\n",
    "# Get unique 'Programme' values from both datasets to check mismatches\n",
    "view_prog = viewing_data.Programme.unique()\n",
    "prod_prog = producers.Programme.unique()\n",
    "# Find which Programmes were not merged between datasets\n",
    "viewing_data_check, producers_check = (list(set(view_prog) - set(prod_prog)), list(set(prod_prog) - set(view_prog)))"
   ]
  },
  {
   "cell_type": "code",
   "execution_count": 16,
   "metadata": {},
   "outputs": [],
   "source": [
    "## STEP 3: Generate summary ## \n",
    "\n",
    "# Find Monthly viewers per group (Month, Channel, Producer)\n",
    "output = combined.groupby([\"Year\", \"Month\", \"Channel\", \"Producer\"])[\"Viewers\"].sum().reset_index(name=\"Monthly Viewers\")\n",
    "\n",
    "## Find the 'Programme' with the highest viewing figures per group ##\n",
    "\n",
    "# Group to ignore territory\n",
    "prep_highest_viewers = combined.groupby([\"Year\", \"Month\", \"Channel\", \"Programme\", \"Producer\"])[\"Viewers\"].sum().reset_index(name=\"Viewers\")\n",
    "\n",
    "# Using idxmax() find rows(Programmes) with highest viewing figures per group\n",
    "idx = prep_highest_viewers.groupby([\"Year\", \"Month\", \"Channel\", \"Producer\"])[\"Viewers\"].idxmax()\n",
    "highest_viewers = prep_highest_viewers.loc[idx]\n",
    "\n",
    "# Add Programme column back into df to reveal most viewed programmes and rename\n",
    "highest_viewers = highest_viewers[[\"Year\", \"Month\", \"Channel\", \"Programme\", \"Producer\"]]\n",
    "highest_viewers = highest_viewers.rename(columns={\"Programme\": \"Most Viewed Programme\"})\n",
    "\n",
    "# Merge Most Viewed Programme per group onto output df\n",
    "output = output.merge(highest_viewers, on=[\"Year\", \"Month\", \"Channel\", \"Producer\"])\n",
    "\n",
    "## Add cumulative total to output ##\n",
    "output[\"Cumulative Total\"] = output[\"Monthly Viewers\"].cumsum()"
   ]
  },
  {
   "cell_type": "code",
   "execution_count": 17,
   "metadata": {},
   "outputs": [
    {
     "name": "stdout",
     "output_type": "stream",
     "text": [
      "Complete: Output JSON 'stakeholder_summary.json' generated successfully.\n",
      "\n",
      "\n",
      "## Checks ##\n",
      "The Viewing dataset had programmes missing from the Producers dataset.\n",
      "Programmes:\n",
      "     - C\n",
      "\n",
      "The Producers dataset had programmes missing from the Viewing dataset.\n",
      "Programmes:\n",
      "     - D\n"
     ]
    }
   ],
   "source": [
    "## STEP 4: Output Summary and Checks ##\n",
    "\n",
    "# Output summary to JSON\n",
    "result = output.to_json(orient=\"records\")\n",
    "\n",
    "# Check JSON is not empty and was created successfully\n",
    "check_obj = json.loads(result)\n",
    "if len(check_obj) != 0:\n",
    "    output.to_json(\"stakeholder_summary.json\", orient=\"records\")\n",
    "    print(\"Complete: Output JSON 'stakeholder_summary.json' generated successfully.\\n\")\n",
    "else:\n",
    "    raise ValueError(\"Output JSON empty.\")\n",
    "\n",
    "\n",
    "## Checks ##\n",
    "print(\"\\n## Checks ##\")\n",
    "if len(viewing_data_check) > 0:\n",
    "    print(\"The Viewing dataset had programmes missing from the Producers dataset.\")\n",
    "    print(\"Programmes:\")\n",
    "    for item in viewing_data_check:\n",
    "        print(\"     - \"+ item)\n",
    "\n",
    "if len(producers_check) > 0:\n",
    "    print(\"\\nThe Producers dataset had programmes missing from the Viewing dataset.\")\n",
    "    print(\"Programmes:\")\n",
    "    for item in producers_check:\n",
    "        print(\"     - \"+ item)"
   ]
  }
 ],
 "metadata": {
  "kernelspec": {
   "display_name": "Python 3",
   "language": "python",
   "name": "python3"
  },
  "language_info": {
   "codemirror_mode": {
    "name": "ipython",
    "version": 3
   },
   "file_extension": ".py",
   "mimetype": "text/x-python",
   "name": "python",
   "nbconvert_exporter": "python",
   "pygments_lexer": "ipython3",
   "version": "3.10.10"
  }
 },
 "nbformat": 4,
 "nbformat_minor": 2
}
